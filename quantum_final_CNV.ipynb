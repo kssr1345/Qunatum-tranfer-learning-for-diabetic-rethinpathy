{
  "cells": [
    {
      "cell_type": "code",
      "execution_count": null,
      "metadata": {
        "id": "LOaZwyG3K0IB",
        "colab": {
          "base_uri": "https://localhost:8080/"
        },
        "outputId": "eeaded4a-84eb-4177-ba04-ac2eaff8e246"
      },
      "outputs": [
        {
          "output_type": "stream",
          "name": "stdout",
          "text": [
            "Drive already mounted at /content/drive/; to attempt to forcibly remount, call drive.mount(\"/content/drive/\", force_remount=True).\n"
          ]
        }
      ],
      "source": [
        "cfrom google.colab import drive\n",
        "drive.mount('/content/drive/')"
      ]
    },
    {
      "cell_type": "code",
      "execution_count": null,
      "metadata": {
        "id": "SFNf4f63QCcy",
        "colab": {
          "base_uri": "https://localhost:8080/"
        },
        "outputId": "14b18dd4-edf0-4c9c-db7b-e4806115fbcb"
      },
      "outputs": [
        {
          "output_type": "stream",
          "name": "stdout",
          "text": [
            "env: OMP_NUM_THREADS=1\n"
          ]
        }
      ],
      "source": [
        "# OpenMP: number of parallel threads.\n",
        "%env OMP_NUM_THREADS=1\n",
        "\n",
        "# Plotting\n",
        "%matplotlib inline\n",
        "import matplotlib.pyplot as plt\n",
        "\n",
        "# PyTorch\n",
        "import torch\n",
        "import torch.nn as nn\n",
        "import torch.optim as optim\n",
        "from torch.optim import lr_scheduler\n",
        "import torchvision\n",
        "from torchvision import datasets, models, transforms\n",
        "# Other tools\n",
        "import time\n",
        "import os\n",
        "import copy\n",
        "\n",
        "from torchsummary import summary"
      ]
    },
    {
      "cell_type": "code",
      "execution_count": null,
      "metadata": {
        "id": "0-LUg3G9LCgp",
        "colab": {
          "base_uri": "https://localhost:8080/"
        },
        "outputId": "49a760f2-46b3-4255-9f2a-67aaad0a1e43"
      },
      "outputs": [
        {
          "output_type": "stream",
          "name": "stdout",
          "text": [
            "Requirement already satisfied: pennylane in /usr/local/lib/python3.7/dist-packages (0.20.0)\n",
            "Requirement already satisfied: networkx in /usr/local/lib/python3.7/dist-packages (from pennylane) (2.6.3)\n",
            "Requirement already satisfied: scipy in /usr/local/lib/python3.7/dist-packages (from pennylane) (1.4.1)\n",
            "Requirement already satisfied: semantic-version==2.6 in /usr/local/lib/python3.7/dist-packages (from pennylane) (2.6.0)\n",
            "Requirement already satisfied: numpy in /usr/local/lib/python3.7/dist-packages (from pennylane) (1.19.5)\n",
            "Requirement already satisfied: appdirs in /usr/local/lib/python3.7/dist-packages (from pennylane) (1.4.4)\n",
            "Requirement already satisfied: autograd in /usr/local/lib/python3.7/dist-packages (from pennylane) (1.3)\n",
            "Requirement already satisfied: toml in /usr/local/lib/python3.7/dist-packages (from pennylane) (0.10.2)\n",
            "Requirement already satisfied: autoray in /usr/local/lib/python3.7/dist-packages (from pennylane) (0.2.5)\n",
            "Requirement already satisfied: cachetools in /usr/local/lib/python3.7/dist-packages (from pennylane) (4.2.4)\n",
            "Requirement already satisfied: pennylane-lightning>=0.18 in /usr/local/lib/python3.7/dist-packages (from pennylane) (0.20.1)\n",
            "Requirement already satisfied: ninja in /usr/local/lib/python3.7/dist-packages (from pennylane-lightning>=0.18->pennylane) (1.10.2.3)\n",
            "Requirement already satisfied: future>=0.15.2 in /usr/local/lib/python3.7/dist-packages (from autograd->pennylane) (0.16.0)\n"
          ]
        }
      ],
      "source": [
        "# Pennylane python -m\n",
        "!pip install pennylane\n",
        "#pip install pennylane --upgrade\n"
      ]
    },
    {
      "cell_type": "code",
      "execution_count": null,
      "metadata": {
        "id": "BDuEb_v0LLES"
      },
      "outputs": [],
      "source": [
        "# Pennylane\n",
        "import pennylane as qml\n",
        "from pennylane import numpy as np"
      ]
    },
    {
      "cell_type": "code",
      "execution_count": null,
      "metadata": {
        "id": "Ky0P8NP_LaoG"
      },
      "outputs": [],
      "source": [
        "n_qubits = 4                     # Number of qubits\n",
        "quantum = True                   # If set to \"False\", the dressed quantum circuit is replaced by \n",
        "                                 # An enterily classical net (defined by the next parameter). \n",
        "classical_model = '512_nq_2'     # Possible choices: '512_2','512_nq_2','551_512_2'. \n",
        "step = 0.0004 #0.0001                    # Learning rate 0.0001 means 50%\n",
        "batch_size = 4 #2                   # Number of samples for each training step 8 around 87% 2 means 50%\n",
        "num_epochs = 20               # Number of training epochs\n",
        "q_depth = 8                     # Depth of the quantum circuit (number of variational layers)\n",
        "gamma_lr_scheduler = 0.1         # Learning rate reduction applied every 10 epochs.                       \n",
        "max_layers = 15                  # Keep 15 even if not all are used.\n",
        "q_delta = 0.01                   # Initial spread of random quantum weights\n",
        "rng_seed = 0                     # Seed for random number generator\n",
        "start_time = time.time()         # Start of the computation timer"
      ]
    },
    {
      "cell_type": "markdown",
      "metadata": {
        "id": "uT_ygJZpLoaO"
      },
      "source": [
        "Let us initialize a PennyLane device with the default simulator.\n"
      ]
    },
    {
      "cell_type": "code",
      "execution_count": null,
      "metadata": {
        "id": "IzCLLWkFLrF9"
      },
      "outputs": [],
      "source": [
        "dev = qml.device('default.qubit', wires=n_qubits)\n"
      ]
    },
    {
      "cell_type": "markdown",
      "metadata": {
        "id": "APobdkMyL_PO"
      },
      "source": [
        "\n",
        "Configure PyTorch to use CUDA, only if available. Otherwise simply use the CPU.\n"
      ]
    },
    {
      "cell_type": "code",
      "execution_count": null,
      "metadata": {
        "id": "sFYpDXeJMBBq"
      },
      "outputs": [],
      "source": [
        "device = torch.device(\"cuda:0\" if torch.cuda.is_available() else \"cpu\")"
      ]
    },
    {
      "cell_type": "markdown",
      "metadata": {
        "id": "ki_7k3GcMQ-w"
      },
      "source": [
        "**Dataset loading**"
      ]
    },
    {
      "cell_type": "code",
      "execution_count": null,
      "metadata": {
        "id": "Gaoc_G_5MIPF"
      },
      "outputs": [],
      "source": [
        "data_transforms = {\n",
        "    'training': transforms.Compose([\n",
        "        #transforms.RandomResizedCrop(224),     # uncomment for data augmentation\n",
        "        #transforms.RandomHorizontalFlip(),     # uncomment for data augmentation\n",
        "        transforms.Resize(256),\n",
        "        transforms.CenterCrop(224),\n",
        "        transforms.ToTensor(),\n",
        "        # Normalize input channels using mean values and standard deviations of ImageNet.\n",
        "        transforms.Normalize([0.485, 0.456, 0.406], [0.229, 0.224, 0.225])\n",
        "    ]),\n",
        "    'testing': transforms.Compose([\n",
        "        transforms.Resize(256),\n",
        "        transforms.CenterCrop(224),\n",
        "        transforms.ToTensor(),\n",
        "        transforms.Normalize([0.485, 0.456, 0.406], [0.229, 0.224, 0.225])\n",
        "    ]),\n",
        "}\n",
        "\n",
        "data_dir = '/content/drive/MyDrive/New_dataset_normal_DRUSEN'\n",
        "image_datasets = {x: datasets.ImageFolder(os.path.join(data_dir, x),\n",
        "                     data_transforms[x]) for x in ['training', 'testing']}\n",
        "dataset_sizes = {x: len(image_datasets[x]) for x in ['training', 'testing']}\n",
        "class_names = image_datasets['training'].classes\n",
        "\n",
        "# Initialize dataloader\n",
        "dataloaders = {x: torch.utils.data.DataLoader(image_datasets[x], \n",
        "                  batch_size=batch_size, shuffle=True) for x in ['training', 'testing']}\n",
        "\n",
        "# function to plot images\n",
        "def imshow(inp, title=None):\n",
        "    \"\"\"Display image from tensor.\"\"\"\n",
        "    inp = inp.numpy().transpose((1, 2, 0))\n",
        "    # We apply the inverse of the initial normalization operation.\n",
        "    mean = np.array([0.485, 0.456, 0.406])\n",
        "    std = np.array([0.229, 0.224, 0.225])\n",
        "    inp = std * inp + mean  \n",
        "    inp = np.clip(inp, 0, 1)\n",
        "    plt.imshow(inp)\n",
        "    if title is not None:\n",
        "        plt.title(title)"
      ]
    },
    {
      "cell_type": "code",
      "execution_count": null,
      "metadata": {
        "id": "Pv4MiTZf4NW_",
        "colab": {
          "base_uri": "https://localhost:8080/"
        },
        "outputId": "f11fcc48-f7cc-4c2b-bf7d-cbe258af7564"
      },
      "outputs": [
        {
          "output_type": "stream",
          "name": "stdout",
          "text": [
            "{'training': 400, 'testing': 100}\n"
          ]
        }
      ],
      "source": [
        "print(dataset_sizes)"
      ]
    },
    {
      "cell_type": "code",
      "execution_count": null,
      "metadata": {
        "id": "HfuCvC3IM2jw",
        "colab": {
          "base_uri": "https://localhost:8080/",
          "height": 148
        },
        "outputId": "d9e1b927-e5b0-4797-9b80-84b3c3917c81"
      },
      "outputs": [
        {
          "output_type": "display_data",
          "data": {
            "image/png": "[encoded data removed]",
            "text/plain": [
              "<Figure size 432x288 with 1 Axes>"
            ]
          },
          "metadata": {
            "needs_background": "light"
          }
        }
      ],
      "source": [
        "# Get a batch of training data\n",
        "inputs, classes = next(iter(dataloaders['testing']))\n",
        "\n",
        "# Make a grid from batch\n",
        "out = torchvision.utils.make_grid(inputs)\n",
        "\n",
        "imshow(out, title=[class_names[x] for x in classes])\n",
        "torchvision.utils.save_image(out, 'test.png', dpi=300)"
      ]
    },
    {
      "cell_type": "code",
      "execution_count": null,
      "metadata": {
        "id": "Pf4Zeqah3pfp",
        "colab": {
          "base_uri": "https://localhost:8080/"
        },
        "outputId": "c4d4e68e-453b-4243-a215-33f916c53e1e"
      },
      "outputs": [
        {
          "output_type": "stream",
          "name": "stdout",
          "text": [
            "tensor([1, 0, 0, 1])\n"
          ]
        }
      ],
      "source": [
        "print(classes)"
      ]
    },
    {
      "cell_type": "code",
      "execution_count": null,
      "metadata": {
        "id": "QDnxIb6VM_eg"
      },
      "outputs": [],
      "source": [
        "\n",
        "torch.manual_seed(rng_seed)\n",
        "dataloaders = {x: torch.utils.data.DataLoader(image_datasets[x], \n",
        "                  batch_size=batch_size,shuffle=True) for x in ['training', 'testing']}"
      ]
    },
    {
      "cell_type": "code",
      "execution_count": null,
      "metadata": {
        "id": "_avA2kg6C3Jv",
        "colab": {
          "base_uri": "https://localhost:8080/"
        },
        "outputId": "849473e7-3a8f-45db-fff5-d2e5191f346a"
      },
      "outputs": [
        {
          "output_type": "stream",
          "name": "stdout",
          "text": [
            "<class 'dict'>\n"
          ]
        }
      ],
      "source": [
        "print(type(dataloaders))"
      ]
    },
    {
      "cell_type": "markdown",
      "metadata": {
        "id": "qdGJR392PDB0"
      },
      "source": [
        "Hybrid transfer learning model (classical-to-quantum).\n"
      ]
    },
    {
      "cell_type": "code",
      "execution_count": null,
      "metadata": {
        "id": "_2AlMCG2PEy7"
      },
      "outputs": [],
      "source": [
        "def H_layer(nqubits):\n",
        "    \"\"\"Layer of single-qubit Hadamard gates. \n",
        "    \"\"\"\n",
        "    for idx in range(nqubits):\n",
        "        qml.Hadamard(wires=idx)\n",
        "        \n",
        "def RY_layer(w):\n",
        "    \"\"\"Layer of parametrized qubit rotations around the y axis. \n",
        "    \"\"\"\n",
        "    for idx, element in enumerate(w):\n",
        "        qml.RY(element, wires=idx)\n",
        "\n",
        "def entangling_layer(nqubits):\n",
        "    \"\"\"Layer of CNOTs followed by another shifted layer of CNOT.\n",
        "    \"\"\"\n",
        "    # In other words it should apply something like :\n",
        "    #CNOT  CNOT  CNOT  CNOT...  CNOT\n",
        "    #   CNOT  CNOT  CNOT...  CNOT  \n",
        "    for i in range(0, nqubits - 1, 2): #loop over even indices: i=0,2,...N-2  \n",
        "        qml.CNOT(wires=[i, i + 1])\n",
        "    for i in range(1, nqubits - 1, 2): #loop over odd indices:  i=1,3,...N-3\n",
        "        qml.CNOT(wires=[i, i + 1])"
      ]
    },
    {
      "cell_type": "code",
      "execution_count": null,
      "metadata": {
        "id": "t0ynVDnFPuAG"
      },
      "outputs": [],
      "source": [
        "@qml.qnode(dev, interface='torch')\n",
        "def q_net(q_in, q_weights_flat):\n",
        "        \n",
        "        # Reshape weights\n",
        "        q_weights = q_weights_flat.reshape(max_layers, n_qubits)\n",
        "        \n",
        "        # Start from state |+> , unbiased w.r.t. |0> and |1>\n",
        "        H_layer(n_qubits)   \n",
        "        \n",
        "        # Embed features in the quantum node\n",
        "        RY_layer(q_in)      \n",
        "       \n",
        "        # Sequence of trainable variational layers\n",
        "        for k in range(q_depth):\n",
        "            entangling_layer(n_qubits)\n",
        "            RY_layer(q_weights[k + 1])\n",
        "\n",
        "        # Expectation values in the Z basis\n",
        "        return [qml.expval(qml.PauliZ(j)) for j in range(n_qubits)]"
      ]
    },
    {
      "cell_type": "code",
      "execution_count": null,
      "metadata": {
        "id": "HliRe_YpPzCJ"
      },
      "outputs": [],
      "source": [
        "class Quantumnet(nn.Module):    \n",
        "        def __init__(self):\n",
        "            super().__init__()\n",
        "            self.pre_net = nn.Linear(512, n_qubits)\n",
        "            self.q_params = nn.Parameter(q_delta * torch.randn(max_layers * n_qubits))\n",
        "            self.post_net = nn.Linear(n_qubits, 4)\n",
        "\n",
        "        def forward(self, input_features):\n",
        "            pre_out = self.pre_net(input_features) \n",
        "            q_in = torch.tanh(pre_out) * np.pi / 2.0   \n",
        "            \n",
        "            # Apply the quantum circuit to each element of the batch and append to q_out\n",
        "            q_out = torch.Tensor(0, n_qubits)\n",
        "            q_out = q_out.to(device)\n",
        "            for elem in q_in:\n",
        "                q_out_elem = q_net(elem,self.q_params).float().unsqueeze(0)\n",
        "                q_out = torch.cat((q_out, q_out_elem))\n",
        "            return self.post_net(q_out)"
      ]
    },
    {
      "cell_type": "code",
      "execution_count": null,
      "metadata": {
        "id": "5gjsl0lMP3K2",
        "colab": {
          "base_uri": "https://localhost:8080/"
        },
        "outputId": "cb9a4173-e12f-421f-9f70-e2cd5749a776"
      },
      "outputs": [
        {
          "output_type": "stream",
          "name": "stdout",
          "text": [
            "<class '__main__.Quantumnet'>\n"
          ]
        }
      ],
      "source": [
        "model_hybrid = torchvision.models.resnet18(pretrained=True)\n",
        "\n",
        "for param in model_hybrid.parameters():\n",
        "    param.requires_grad = False\n",
        "    \n",
        "if quantum:\n",
        "  \n",
        "    model_hybrid.fc = Quantumnet()\n",
        "    print(type(model_hybrid.fc))\n",
        "    \n",
        "elif classical_model == '512_2':\n",
        "    model_hybrid.fc = nn.Linear(512, 2)\n",
        "    \n",
        "elif classical_model == '512_nq_2':\n",
        "    model_hybrid.fc = nn.Sequential(nn.Linear(512, n_qubits), torch.nn.ReLU(), nn.Linear(n_qubits, 2)) \n",
        "\n",
        "elif classical_model == '551_512_2':\n",
        "    model_hybrid.fc = nn.Sequential(nn.Linear(512, 512), torch.nn.ReLU(), nn.Linear(512, 2))\n",
        "\n",
        "# Use CUDA or CPU according to the \"device\" object.\n",
        "model_hybrid = model_hybrid.to(device)"
      ]
    },
    {
      "cell_type": "markdown",
      "metadata": {
        "id": "qfXhBEEkQXHh"
      },
      "source": [
        "Training and results\n"
      ]
    },
    {
      "cell_type": "code",
      "execution_count": null,
      "metadata": {
        "id": "BW5CeGD8QYXf"
      },
      "outputs": [],
      "source": [
        "criterion = nn.CrossEntropyLoss()\n"
      ]
    },
    {
      "cell_type": "code",
      "execution_count": null,
      "metadata": {
        "id": "0w-r67btQfFg"
      },
      "outputs": [],
      "source": [
        "\n",
        "optimizer_hybrid = optim.Adam(model_hybrid.fc.parameters(), lr=step)"
      ]
    },
    {
      "cell_type": "code",
      "execution_count": null,
      "metadata": {
        "id": "K8_e3hWxQh1X"
      },
      "outputs": [],
      "source": [
        "\n",
        "exp_lr_scheduler = lr_scheduler.StepLR(optimizer_hybrid, step_size=10, gamma=gamma_lr_scheduler)"
      ]
    },
    {
      "cell_type": "code",
      "execution_count": null,
      "metadata": {
        "id": "c7LISf00rq6L"
      },
      "outputs": [],
      "source": [
        "\n",
        "eval_accu1=[]\n",
        "nb_classes = 4\n",
        "confusion_matrix = torch.zeros(nb_classes, nb_classes)\n",
        "def train_model(model, criterion, optimizer, scheduler, num_epochs):\n",
        "        since = time.time()\n",
        "        best_model_wts = copy.deepcopy(model.state_dict())\n",
        "        best_acc = 0.0\n",
        "        best_loss = 10000.0   # Large arbitrary number\n",
        "        best_acc_train = 0.0\n",
        "        best_loss_train = 10000.0  # Large arbitrary number\n",
        "        print('Training started:')\n",
        "        \n",
        "        for epoch in range(num_epochs):    \n",
        "            \n",
        "            # Each epoch has a training and validation phase\n",
        "            for phase in ['training', 'testing']:\n",
        "                if phase == 'training':\n",
        "                    scheduler.step()\n",
        "                    # Set model to training mode\n",
        "                    model.train()  \n",
        "                else:\n",
        "                    # Set model to evaluate mode\n",
        "                    model.eval()\n",
        "                running_loss = 0.0\n",
        "                running_corrects = 0\n",
        "                \n",
        "                # Iterate over data.\n",
        "                n_batches = dataset_sizes[phase] // batch_size\n",
        "                it = 0\n",
        "                for inputs, labels in dataloaders[phase]:\n",
        "                    since_batch = time.time()\n",
        "                    batch_size_ = len(inputs)\n",
        "                    inputs = inputs.to(device)\n",
        "                    labels = labels.to(device)\n",
        "                    optimizer.zero_grad()\n",
        "                    \n",
        "                    # Track/compute gradient and make an optimization step only when training\n",
        "                    with torch.set_grad_enabled(phase == 'training'):\n",
        "                        outputs = model(inputs)\n",
        "                        _, preds = torch.max(outputs, 1)\n",
        "                        for t, p in zip(labels.view(-1), preds.view(-1)):\n",
        "                          confusion_matrix[t.long(), p.long()] += 1\n",
        "                        loss = criterion(outputs, labels)\n",
        "                        if phase == 'training':\n",
        "                            loss.backward()\n",
        "                            optimizer.step()\n",
        "                    \n",
        "                    # Print iteration results\n",
        "                    running_loss += loss.item() * batch_size_\n",
        "                    batch_corrects = torch.sum(preds == labels.data).item()\n",
        "                    running_corrects += batch_corrects\n",
        "                    print('Phase: {} Epoch: {}/{} Iter: {}/{} Batch time: {:.4f}'.format(phase, epoch + 1, num_epochs, it + 1, n_batches + 1, time.time() - since_batch), end='\\r', flush=True)\n",
        "                    it += 1\n",
        "                \n",
        "                # Print epoch results\n",
        "                epoch_loss = running_loss / dataset_sizes[phase]\n",
        "                epoch_acc = running_corrects / dataset_sizes[phase]\n",
        "                eval_accu1.append(epoch_acc)\n",
        "                print('Phase: {} Epoch: {}/{} Loss: {:.4f} Acc: {:.4f}        '.format('training' if phase == 'training' else 'testing ', epoch + 1, num_epochs, epoch_loss, epoch_acc))\n",
        "                \n",
        "                # Check if this is the best model wrt previous epochs\n",
        "                if phase == 'testing' and epoch_acc > best_acc:\n",
        "                    best_acc = epoch_acc\n",
        "                    best_model_wts = copy.deepcopy(model.state_dict())\n",
        "                if phase == 'testing' and epoch_loss < best_loss:\n",
        "                    best_loss = epoch_loss\n",
        "                if phase == 'training' and epoch_acc > best_acc_train:\n",
        "                    best_acc_train = epoch_acc\n",
        "                if phase == 'training' and epoch_loss < best_loss_train:\n",
        "                    best_loss_train = epoch_loss\n",
        "        \n",
        "        # Print final results           \n",
        "        model.load_state_dict(best_model_wts)\n",
        "        time_elapsed = time.time() - since\n",
        "        print('Training completed in {:.0f}m {:.0f}s'.format(time_elapsed // 60, time_elapsed % 60))\n",
        "        print('Best test loss: {:.4f} | Best test accuracy: {:.4f}'.format(best_loss, best_acc))\n",
        "        return model"
      ]
    },
    {
      "cell_type": "code",
      "execution_count": null,
      "metadata": {
        "id": "uZpcAAkoRTiT",
        "colab": {
          "base_uri": "https://localhost:8080/"
        },
        "outputId": "d3148862-63cc-413e-c493-a94a631014bb"
      },
      "outputs": [
        {
          "output_type": "stream",
          "name": "stdout",
          "text": [
            "Training started:\n"
          ]
        },
        {
          "output_type": "stream",
          "name": "stderr",
          "text": [
            "/usr/local/lib/python3.7/dist-packages/torch/optim/lr_scheduler.py:134: UserWarning: Detected call of `lr_scheduler.step()` before `optimizer.step()`. In PyTorch 1.1.0 and later, you should call them in the opposite order: `optimizer.step()` before `lr_scheduler.step()`.  Failure to do this will result in PyTorch skipping the first value of the learning rate schedule. See more details at https://pytorch.org/docs/stable/optim.html#how-to-adjust-learning-rate\n",
            "  \"https://pytorch.org/docs/stable/optim.html#how-to-adjust-learning-rate\", UserWarning)\n"
          ]
        },
        {
          "output_type": "stream",
          "name": "stdout",
          "text": [
            "Phase: training Epoch: 1/20 Loss: 1.0271 Acc: 0.5650        \n",
            "Phase: testing  Epoch: 1/20 Loss: 0.9665 Acc: 0.6700        \n",
            "Phase: training Epoch: 2/20 Loss: 0.9329 Acc: 0.6500        \n",
            "Phase: testing  Epoch: 2/20 Loss: 0.9102 Acc: 0.6100        \n",
            "Phase: training Epoch: 3/20 Loss: 0.8540 Acc: 0.7075        \n",
            "Phase: testing  Epoch: 3/20 Loss: 0.8311 Acc: 0.7000        \n",
            "Phase: training Epoch: 4/20 Loss: 0.7929 Acc: 0.7700        \n",
            "Phase: testing  Epoch: 4/20 Loss: 0.7653 Acc: 0.7600        \n",
            "Phase: training Epoch: 5/20 Loss: 0.7330 Acc: 0.7975        \n",
            "Phase: testing  Epoch: 5/20 Loss: 0.7379 Acc: 0.7300        \n",
            "Phase: training Epoch: 6/20 Loss: 0.7175 Acc: 0.7450        \n",
            "Phase: testing  Epoch: 6/20 Loss: 0.6877 Acc: 0.7800        \n",
            "Phase: training Epoch: 7/20 Loss: 0.6550 Acc: 0.8300        \n",
            "Phase: testing  Epoch: 7/20 Loss: 0.6542 Acc: 0.8000        \n",
            "Phase: training Epoch: 8/20 Loss: 0.6556 Acc: 0.7800        \n",
            "Phase: testing  Epoch: 8/20 Loss: 0.6231 Acc: 0.8000        \n",
            "Phase: training Epoch: 9/20 Loss: 0.6074 Acc: 0.8125        \n",
            "Phase: testing  Epoch: 9/20 Loss: 0.5832 Acc: 0.8400        \n",
            "Phase: training Epoch: 10/20 Loss: 0.5965 Acc: 0.8200        \n",
            "Phase: testing  Epoch: 10/20 Loss: 0.5964 Acc: 0.8100        \n",
            "Phase: training Epoch: 11/20 Loss: 0.5792 Acc: 0.8350        \n",
            "Phase: testing  Epoch: 11/20 Loss: 0.6165 Acc: 0.7900        \n",
            "Phase: training Epoch: 12/20 Loss: 0.5831 Acc: 0.8600        \n",
            "Phase: testing  Epoch: 12/20 Loss: 0.5870 Acc: 0.8400        \n",
            "Phase: training Epoch: 13/20 Loss: 0.5849 Acc: 0.8400        \n",
            "Phase: testing  Epoch: 13/20 Loss: 0.5954 Acc: 0.8000        \n",
            "Phase: training Epoch: 14/20 Loss: 0.5789 Acc: 0.8450        \n",
            "Phase: testing  Epoch: 14/20 Loss: 0.6490 Acc: 0.7000        \n",
            "Phase: training Epoch: 15/20 Loss: 0.5794 Acc: 0.8250        \n",
            "Phase: testing  Epoch: 15/20 Loss: 0.6010 Acc: 0.7900        \n",
            "Phase: training Epoch: 16/20 Loss: 0.5878 Acc: 0.8050        \n",
            "Phase: testing  Epoch: 16/20 Loss: 0.6208 Acc: 0.7600        \n",
            "Phase: training Epoch: 17/20 Loss: 0.5780 Acc: 0.8375        \n",
            "Phase: testing  Epoch: 17/20 Loss: 0.5966 Acc: 0.7800        \n",
            "Phase: training Epoch: 18/20 Loss: 0.5508 Acc: 0.8500        \n",
            "Phase: testing  Epoch: 18/20 Loss: 0.5904 Acc: 0.7700        \n",
            "Phase: training Epoch: 19/20 Loss: 0.5625 Acc: 0.8325        \n",
            "Phase: testing  Epoch: 19/20 Loss: 0.6017 Acc: 0.7800        \n",
            "Phase: training Epoch: 20/20 Loss: 0.5928 Acc: 0.8125        \n",
            "Phase: testing  Epoch: 20/20 Loss: 0.6356 Acc: 0.7200        \n",
            "Training completed in 19m 21s\n",
            "Best test loss: 0.5832 | Best test accuracy: 0.8400\n"
          ]
        }
      ],
      "source": [
        "model_hybrid = train_model(model_hybrid, criterion, optimizer_hybrid,exp_lr_scheduler, num_epochs=20)"
      ]
    },
    {
      "cell_type": "code",
      "execution_count": null,
      "metadata": {
        "id": "boIRhb6mV7rh",
        "colab": {
          "base_uri": "https://localhost:8080/"
        },
        "outputId": "bdbfa207-0576-45ba-f218-7bf002b49e44"
      },
      "outputs": [
        {
          "output_type": "stream",
          "name": "stdout",
          "text": [
            "Model state_dict saved.\n"
          ]
        }
      ],
      "source": [
        "if quantum:\n",
        "        torch.save(model_hybrid.state_dict(), \"quantum_oct.pt\")\n",
        "else:\n",
        "        torch.save(model_hybrid.state_dict(), \"classical_oct.pt\")\n",
        "print(\"Model state_dict saved.\")"
      ]
    },
    {
      "cell_type": "markdown",
      "metadata": {
        "id": "CW9PeqftWBFm"
      },
      "source": [
        "Load model from file"
      ]
    },
    {
      "cell_type": "code",
      "execution_count": null,
      "metadata": {
        "id": "pNyl7CH7WEay"
      },
      "outputs": [],
      "source": [
        "if quantum:\n",
        "    model_hybrid.load_state_dict(torch.load(\"quantum_oct.pt\"))\n",
        "else:\n",
        "    model_hybrid.load_state_dict(torch.load(\"classical_oct.pt\"))"
      ]
    },
    {
      "cell_type": "code",
      "execution_count": null,
      "metadata": {
        "id": "HodTVQjrWNS7",
        "colab": {
          "base_uri": "https://localhost:8080/"
        },
        "outputId": "09948986-0c4a-401a-a462-4f7c8d20c34e"
      },
      "outputs": [
        {
          "output_type": "stream",
          "name": "stdout",
          "text": [
            "\n",
            "Test Loss: 0.5832 Test Acc: 0.8400        \n"
          ]
        }
      ],
      "source": [
        "criterion = nn.CrossEntropyLoss()\n",
        "running_loss = 0.0\n",
        "running_corrects = 0\n",
        "n_batches = dataset_sizes['testing'] // batch_size\n",
        "it = 0\n",
        "eval_losses=[]\n",
        "eval_accu=[]\n",
        "\n",
        "# Testing loop\n",
        "for inputs, labels in dataloaders['testing']:\n",
        "    model_hybrid.eval()\n",
        "    inputs = inputs.to(device)\n",
        "    labels = labels.to(device)\n",
        "    batch_size_ = len(inputs)\n",
        "    with torch.set_grad_enabled(False):\n",
        "        outputs = model_hybrid(inputs)\n",
        "        _, preds = torch.max(outputs, 1)\n",
        "        loss = criterion(outputs, labels)\n",
        "    running_loss += loss.item() * batch_size_\n",
        "    batch_corrects = torch.sum(preds == labels.data).item()\n",
        "    running_corrects += batch_corrects\n",
        "    print('Iter: {}/{}'.format(it + 1, n_batches + 1), end='\\r', flush=True)\n",
        "    it+=1\n",
        "# Print final results                    \n",
        "epoch_loss = running_loss / dataset_sizes['testing']\n",
        "epoch_acc = running_corrects / dataset_sizes['testing']\n",
        "print('\\nTest Loss: {:.4f} Test Acc: {:.4f}        '.format(epoch_loss, epoch_acc))"
      ]
    },
    {
      "cell_type": "markdown",
      "metadata": {
        "id": "GdSBkiRZWfoD"
      },
      "source": [
        "Visualize the model"
      ]
    },
    {
      "cell_type": "code",
      "execution_count": null,
      "metadata": {
        "id": "LyG4i8ylWgYU",
        "colab": {
          "base_uri": "https://localhost:8080/"
        },
        "outputId": "94fae4d0-2a4b-4afd-d849-81e144c7115a"
      },
      "outputs": [
        {
          "output_type": "stream",
          "name": "stdout",
          "text": [
            "<class 'torch.Tensor'>\n",
            "<class 'torch.Tensor'>\n"
          ]
        },
        {
          "output_type": "display_data",
          "data": {
            "image/png": "[encoded data removed]",
            "text/plain": [
              "<Figure size 432x288 with 4 Axes>"
            ]
          },
          "metadata": {
            "needs_background": "light"
          }
        }
      ],
      "source": [
        "def visualize_model(model, num_images=6, fig_name='Predictions'):\n",
        "    images_so_far = 0\n",
        "    fig = plt.figure(fig_name)\n",
        "    model.eval()\n",
        "    with torch.no_grad():\n",
        "        for i, (inputs, labels) in enumerate(dataloaders['testing']):\n",
        "            inputs = inputs.to(device)\n",
        "            labels = labels.to(device)\n",
        "            print(type(labels))\n",
        "            outputs = model(inputs)\n",
        "            _, preds1 = torch.max(outputs, 1)\n",
        "            for j in range(inputs.size()[1]):\n",
        "                images_so_far += 1\n",
        "                ax = plt.subplot(num_images // 2, 2, images_so_far)\n",
        "                ax.axis('off')\n",
        "                ax.set_title('[{}]'.format(class_names[preds[j]]))\n",
        "                imshow(inputs.cpu().data[j])\n",
        "                if images_so_far == num_images:\n",
        "                    return\n",
        "        \n",
        "visualize_model(model_hybrid, num_images=batch_size)"
      ]
    },
    {
      "cell_type": "markdown",
      "metadata": {
        "id": "KVqMZzBmfac-"
      },
      "source": [
        "Drawint the quntum circuit"
      ]
    },
    {
      "cell_type": "code",
      "execution_count": null,
      "metadata": {
        "id": "fwaAM6FbXNmq",
        "colab": {
          "base_uri": "https://localhost:8080/"
        },
        "outputId": "3b623cfe-5a68-480e-e8e6-eb099d5faa4b"
      },
      "outputs": [
        {
          "output_type": "stream",
          "name": "stdout",
          "text": [
            " 0: ──H──RY(0.946)──╭C───RY(0.703)─────────────╭C───RY(0.876)──────────────╭C───RY(0.918)─────────────╭C───RY(0.741)─────────────╭C───RY(0.213)───────────────╭C───RY(0.556)──────────────╭C───RY(0.567)─────────────╭C───RY(0.76)──────────────┤ ⟨Z⟩ \n",
            " 1: ──H──RY(0.984)──╰X──╭C──────────RY(0.978)──╰X──╭C───────────RY(0.414)──╰X──╭C──────────RY(0.142)──╰X──╭C──────────RY(0.797)──╰X──╭C───────────RY(0.0128)──╰X──╭C──────────RY(0.0014)──╰X──╭C──────────RY(0.222)──╰X──╭C──────────RY(0.433)──┤ ⟨Z⟩ \n",
            " 2: ──H──RY(0.783)──╭C──╰X──────────RY(0.302)──╭C──╰X───────────RY(0.443)──╭C──╰X──────────RY(0.415)──╭C──╰X──────────RY(0.167)──╭C──╰X───────────RY(0.891)───╭C──╰X──────────RY(0.609)───╭C──╰X──────────RY(0.135)──╭C──╰X──────────RY(0.552)──┤ ⟨Z⟩ \n",
            " 3: ──H──RY(0.419)──╰X───RY(0.199)─────────────╰X───RY(0.0653)─────────────╰X───RY(0.946)─────────────╰X───RY(0.78)──────────────╰X───RY(0.0397)──────────────╰X───RY(0.842)──────────────╰X───RY(0.921)─────────────╰X───RY(0.547)─────────────┤ ⟨Z⟩ \n",
            "\n"
          ]
        }
      ],
      "source": [
        "drawer = qml.draw(q_net)\n",
        "q_in_example = np.random.rand(n_qubits)\n",
        "q_weights_flat = np.random.rand(max_layers * n_qubits)\n",
        "print(drawer(q_in_example, q_weights_flat))"
      ]
    },
    {
      "cell_type": "markdown",
      "metadata": {
        "id": "3SwDt8m5fd25"
      },
      "source": [
        "Plotting the accuracy plot"
      ]
    },
    {
      "cell_type": "code",
      "execution_count": null,
      "metadata": {
        "id": "FGpaek45fUYw"
      },
      "outputs": [],
      "source": [
        "l_testing=[]\n",
        "l_training=[]\n",
        "for i in range(len(eval_accu1)):\n",
        "  if(i%2!=0):\n",
        "    l_testing.append(eval_accu1[i])\n",
        "  else:\n",
        "    l_training.append(eval_accu1[i])"
      ]
    },
    {
      "cell_type": "code",
      "execution_count": null,
      "metadata": {
        "id": "-BYigVCdeP1c"
      },
      "outputs": [],
      "source": [
        "p=[i for i in range(1,21)]\n",
        "#p = range(1,40)"
      ]
    },
    {
      "cell_type": "code",
      "execution_count": null,
      "metadata": {
        "id": "hM4k5H-M1pjH",
        "colab": {
          "base_uri": "https://localhost:8080/"
        },
        "outputId": "5c84f545-7dbf-4834-ba3c-d72c09b0190b"
      },
      "outputs": [
        {
          "output_type": "stream",
          "name": "stdout",
          "text": [
            "[1, 2, 3, 4, 5, 6, 7, 8, 9, 10, 11, 12, 13, 14, 15, 16, 17, 18, 19, 20]\n"
          ]
        }
      ],
      "source": [
        "print(p)"
      ]
    },
    {
      "cell_type": "code",
      "execution_count": null,
      "metadata": {
        "id": "B6zWKSEmdWft"
      },
      "outputs": [],
      "source": [
        "import matplotlib.pyplot as plt"
      ]
    },
    {
      "cell_type": "code",
      "execution_count": null,
      "metadata": {
        "id": "vfR63RLqw_Wu",
        "colab": {
          "base_uri": "https://localhost:8080/"
        },
        "outputId": "a2f29769-c6b1-4410-b14f-268dfdb3fb1b"
      },
      "outputs": [
        {
          "output_type": "execute_result",
          "data": {
            "text/plain": [
              "20"
            ]
          },
          "metadata": {},
          "execution_count": 68
        }
      ],
      "source": [
        "len(l_training)"
      ]
    },
    {
      "cell_type": "markdown",
      "metadata": {
        "id": "FIsd34nFw-1Z"
      },
      "source": [
        ""
      ]
    },
    {
      "cell_type": "code",
      "execution_count": null,
      "metadata": {
        "id": "ypXv6VX3dddE",
        "colab": {
          "base_uri": "https://localhost:8080/",
          "height": 312
        },
        "outputId": "14ad7f10-3842-470a-852f-ba1397526012"
      },
      "outputs": [
        {
          "output_type": "execute_result",
          "data": {
            "text/plain": [
              "<matplotlib.legend.Legend at 0x7f43afc85610>"
            ]
          },
          "metadata": {},
          "execution_count": 69
        },
        {
          "output_type": "display_data",
          "data": {
            "image/png": "[encoded data removed]",
            "text/plain": [
              "<Figure size 432x288 with 1 Axes>"
            ]
          },
          "metadata": {
            "needs_background": "light"
          }
        }
      ],
      "source": [
        "plt.plot(p,l_training,label=\"training\")\n",
        "plt.plot(p,l_testing,label=\"testing\")\n",
        "plt.ylabel('accuracy plot')\n",
        "plt.xlabel('epochs')\n",
        "plt.title(\"accuracy\")\n",
        "plt.legend()"
      ]
    },
    {
      "cell_type": "code",
      "execution_count": null,
      "metadata": {
        "id": "z-GbY7Rjduu6"
      },
      "outputs": [],
      "source": [
        "from sklearn.metrics import classification_report"
      ]
    },
    {
      "cell_type": "code",
      "execution_count": null,
      "metadata": {
        "id": "m7f55NUbUmVK",
        "colab": {
          "base_uri": "https://localhost:8080/"
        },
        "outputId": "5e810503-5cf1-413f-d2bf-2d7ddcc0b68c"
      },
      "outputs": [
        {
          "output_type": "stream",
          "name": "stdout",
          "text": [
            "              precision    recall  f1-score   support\n",
            "\n",
            "      DRUSEN       0.67      1.00      0.80         2\n",
            "      NORMAL       1.00      0.50      0.67         2\n",
            "\n",
            "    accuracy                           0.75         4\n",
            "   macro avg       0.83      0.75      0.73         4\n",
            "weighted avg       0.83      0.75      0.73         4\n",
            "\n"
          ]
        }
      ],
      "source": [
        "target_names = ['DRUSEN', 'NORMAL']\n",
        "print(classification_report(classes, preds, target_names=target_names))"
      ]
    },
    {
      "cell_type": "code",
      "execution_count": null,
      "metadata": {
        "id": "xmNdqNn-UmYF"
      },
      "outputs": [],
      "source": [
        ""
      ]
    },
    {
      "cell_type": "code",
      "execution_count": null,
      "metadata": {
        "id": "-EnkJD7PUma4"
      },
      "outputs": [],
      "source": [
        ""
      ]
    },
    {
      "cell_type": "code",
      "execution_count": null,
      "metadata": {
        "id": "-n-QBaEUUmdi"
      },
      "outputs": [],
      "source": [
        ""
      ]
    }
  ],
  "metadata": {
    "colab": {
      "collapsed_sections": [],
      "name": "quantum_final_CNV.ipynb",
      "provenance": []
    },
    "kernelspec": {
      "display_name": "Python 3",
      "name": "python3"
    },
    "language_info": {
      "name": "python"
    }
  },
  "nbformat": 4,
  "nbformat_minor": 0
}